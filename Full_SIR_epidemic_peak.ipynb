{
 "cells": [
  {
   "cell_type": "code",
   "execution_count": 7,
   "id": "941ee892",
   "metadata": {},
   "outputs": [],
   "source": [
    "import numpy as np\n",
    "import scipy as sp\n",
    "import seaborn as sns\n",
    "import pandas as pd\n",
    "from matplotlib import pyplot as plt\n",
    "from tqdm import tqdm\n",
    "from joblib import Parallel, delayed\n",
    "from time import time as timer"
   ]
  },
  {
   "cell_type": "code",
   "execution_count": 2,
   "id": "6b733298",
   "metadata": {},
   "outputs": [],
   "source": [
    "beta = 2/7 # 3/7, 1.5/10\n",
    "gamma = 1/7 # 1/7, 1/10 \n",
    "Reff = beta/gamma # Effective reproduction number\n",
    "\n",
    "\n",
    "omega = beta + gamma # Average lifetime of infectious case\n",
    "r = beta - gamma # Growth rate \n",
    "rho = omega\n",
    "\n",
    "\n",
    "ntime = 10000\n",
    "Tmax = 1000\n",
    "time = np.linspace(0, Tmax, ntime)\n",
    "dtime = np.diff(time)[0]\n",
    "\n",
    "# Initial conditions for probability of extinction and moment equations\n",
    "\n",
    "q0 = 0\n",
    "m0 = 1\n",
    "m2_0 = 1\n",
    "\n",
    "# Colour map\n",
    "\n",
    "cmap = sns.color_palette(\"Set2\")\n"
   ]
  },
  {
   "cell_type": "code",
   "execution_count": 3,
   "id": "a711ae42",
   "metadata": {},
   "outputs": [],
   "source": [
    "stop_times_df2 = pd.read_csv(\"stop_times_df2.csv\")"
   ]
  },
  {
   "cell_type": "code",
   "execution_count": 9,
   "id": "2bfc4d4e",
   "metadata": {},
   "outputs": [],
   "source": [
    "def gillespie_peak_time(beta, gamma, y0, Tmax = Tmax, N = int(1e7)):\n",
    "    nevents = int(2*N)\n",
    "    omega = beta + gamma\n",
    "    t = 0\n",
    "    rands = np.random.random(2*nevents).reshape((nevents, 2))\n",
    "    cases = np.nan * np.ones((nevents, 2))\n",
    "    cases[0, 1] = y0\n",
    "    cases[0, 0] = N-y0\n",
    "    time = [0]\n",
    "    e=0\n",
    "    while cases[e, 1]>0:\n",
    "        e+=1\n",
    "        rate_vec = np.array((beta*cases[e-1, 1]*cases[e-1, 0]/N, gamma*cases[e-1, 1]))\n",
    "        rate_sum = np.sum(rate_vec)\n",
    "\n",
    "        rate_cumsum = np.cumsum(rate_vec)\n",
    "        dt = -np.log(rands[e, 0])/rate_sum\n",
    "        t += dt\n",
    "        \n",
    "        time.append(t)\n",
    "        event_rand = rate_sum * rands[e, 1]\n",
    "        try:\n",
    "            event = np.where(rate_cumsum >= event_rand)[0][0]\n",
    "        except:\n",
    "            print(e, cases[0, :], rate_sum)\n",
    "            return cases\n",
    "        if event ==0:\n",
    "            cases[e, 1] = cases[e-1, 1] + 1\n",
    "            cases[e, 0] = cases[e-1, 0] - 1\n",
    "        elif event == 1:\n",
    "            cases[e, 1] = cases[e-1, 1] - 1\n",
    "            cases[e, 0] = cases[e-1, 0]\n",
    "        \n",
    "    cases[e:, 1] = 0\n",
    "    peak_size = np.max(cases[:, 1])\n",
    "    peak_idx = np.argmax(cases[:, 1])\n",
    "    peak_time = time[peak_idx]\n",
    "    if peak_size >= N/1000:\n",
    "        return peak_time, peak_size\n",
    "    else:\n",
    "        return 0., 0."
   ]
  },
  {
   "cell_type": "code",
   "execution_count": 15,
   "id": "f65e7a6a",
   "metadata": {},
   "outputs": [
    {
     "name": "stderr",
     "output_type": "stream",
     "text": [
      "/opt/anaconda3/lib/python3.9/site-packages/joblib/externals/loky/process_executor.py:702: UserWarning: A worker stopped while some jobs were given to the executor. This can be caused by a too short worker timeout or by a memory leak.\n",
      "  warnings.warn(\n"
     ]
    },
    {
     "name": "stdout",
     "output_type": "stream",
     "text": [
      "Executed in 6319.022735118866 seconds\n",
      "       PeakTime\n",
      "0      0.000000\n",
      "1    110.429978\n",
      "2    109.300377\n",
      "3    107.374390\n",
      "4    112.225171\n",
      "..          ...\n",
      "995    0.000000\n",
      "996    0.000000\n",
      "997  105.203782\n",
      "998  106.805526\n",
      "999  103.050763\n",
      "\n",
      "[1000 rows x 1 columns]\n"
     ]
    }
   ],
   "source": [
    "np.random.seed(123)\n",
    "nruns_peak = 1000\n",
    "population = int(1e7)\n",
    "\n",
    "start = timer()\n",
    "peaks = Parallel(n_jobs=-1)(delayed(gillespie_peak_time)(beta, \n",
    "                                                         gamma, \n",
    "                                                         y0 = 1,\n",
    "                                                         N = population\n",
    "                                                        ) for i in range(nruns_peak))\n",
    "print(\"Executed in \" + str(timer()-start) + ' seconds')\n",
    "peak_times = pd.DataFrame(np.array([pt for (pt, ps) in peaks]))\n",
    "peak_times.columns = [\"PeakTime\"]\n",
    "print(peak_times)\n",
    "peak_times.to_csv(\"peak_times_homogeneity_R=\" + str(Reff) + \"_nruns=\" + str(nruns_peak) + \"_pop=\" + str(population) + \".csv\")\n"
   ]
  },
  {
   "cell_type": "code",
   "execution_count": null,
   "id": "e6ba8acf",
   "metadata": {},
   "outputs": [],
   "source": [
    "plt.figure(7)\n",
    "peak_df = pd.DataFrame(peak_times[peak_times>0], columns = [\"Peak (full simulation)\"])\n",
    "sns.kdeplot(stop_times_df2[cols[st_idx]]+ peak_time, label = \"Gillespie Simulated FPT\", color = 'purple', alpha = 0.5)\n",
    "sns.kdeplot(peak_df[\"Peak (full simulation)\"], label = \"Peak (full simulation)\")\n",
    "\n",
    "plt.xlim([75, 200])\n",
    "plt.xlabel(\"Time (Days)\")\n",
    "plt.title(\"Peak time distribution, R = 2\")\n",
    "plt.legend()\n",
    "plt.figure(8)\n",
    "\n",
    "\n",
    "plt.plot(time[:peak_idx], np.zeros(peak_idx), color = 'purple')\n",
    "\n",
    "ecdf_peak = np.zeros_like(time)\n",
    "ecdf_peak_approx = np.zeros_like(time)\n",
    "st_df = stop_times_df2[cols[st_idx]].dropna()\n",
    "for t_idx in tqdm(range(len(time))):\n",
    "    T = time[t_idx]\n",
    "    ecdf_peak[t_idx] = len(np.where(peak_df <= T)[0])/len(peak_df)\n",
    "    ecdf_peak_approx[t_idx] = len(np.where( st_df <= T)[0])/len(st_df)\n",
    "\n",
    "plt.plot(time, ecdf_peak, label = \"FPT (Full simulation)\")\n",
    "plt.plot(time + peak_time, ecdf_peak_approx, label = \"Gillespie Simulated FPT\", color = 'tab:purple', alpha = 0.5)\n",
    "plt.xlim([0, 200])\n",
    "plt.ylim([0, 1])\n",
    "plt.xlabel(\"Time (Days)\")\n",
    "plt.title(\"Peak time distribution, R = 2\")\n",
    "plt.legend()\n",
    "plt.savefig(\"True_peak_time_R=\" + str(Reff) + \".pdf\")"
   ]
  },
  {
   "cell_type": "code",
   "execution_count": null,
   "id": "9cad5a3a",
   "metadata": {},
   "outputs": [],
   "source": []
  },
  {
   "cell_type": "code",
   "execution_count": null,
   "id": "b0c26680",
   "metadata": {},
   "outputs": [],
   "source": []
  },
  {
   "cell_type": "code",
   "execution_count": null,
   "id": "3e2ef598",
   "metadata": {},
   "outputs": [],
   "source": []
  }
 ],
 "metadata": {
  "kernelspec": {
   "display_name": "Python 3 (ipykernel)",
   "language": "python",
   "name": "python3"
  },
  "language_info": {
   "codemirror_mode": {
    "name": "ipython",
    "version": 3
   },
   "file_extension": ".py",
   "mimetype": "text/x-python",
   "name": "python",
   "nbconvert_exporter": "python",
   "pygments_lexer": "ipython3",
   "version": "3.9.13"
  }
 },
 "nbformat": 4,
 "nbformat_minor": 5
}
