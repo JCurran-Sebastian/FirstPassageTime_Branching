{
 "cells": [
  {
   "cell_type": "markdown",
   "id": "b4bd3279",
   "metadata": {},
   "source": [
    "# Consider heterogeneous model\n",
    "\n",
    "Pick population susceptibilities from a gamma distribution with mean 1 and specified variance.\n"
   ]
  },
  {
   "cell_type": "code",
   "execution_count": 1,
   "id": "941ee892",
   "metadata": {},
   "outputs": [],
   "source": [
    "import numpy as np\n",
    "import scipy as sp\n",
    "import scipy.stats as st\n",
    "import seaborn as sns\n",
    "import pandas as pd\n",
    "from matplotlib import pyplot as plt\n",
    "from tqdm import tqdm\n",
    "from joblib import Parallel, delayed\n",
    "from time import time as timer"
   ]
  },
  {
   "cell_type": "code",
   "execution_count": 2,
   "id": "6b733298",
   "metadata": {},
   "outputs": [],
   "source": [
    "beta = 2/7 # 3/7, 1.5/10\n",
    "gamma = 1/7 # 1/7, 1/10 \n",
    "Reff = beta/gamma # Effective reproduction number\n",
    "\n",
    "\n",
    "omega = beta + gamma # Average lifetime of infectious case\n",
    "r = beta - gamma # Growth rate \n",
    "rho = omega\n",
    "\n",
    "\n",
    "ntime = 10000\n",
    "Tmax = 1000\n",
    "time = np.linspace(0, Tmax, ntime)\n",
    "dtime = np.diff(time)[0]\n",
    "\n",
    "# Initial conditions for probability of extinction and moment equations\n",
    "\n",
    "q0 = 0\n",
    "m0 = 1\n",
    "m2_0 = 1\n",
    "\n",
    "# Colour map\n",
    "\n",
    "cmap = sns.color_palette(\"Set2\")\n"
   ]
  },
  {
   "cell_type": "code",
   "execution_count": 3,
   "id": "a711ae42",
   "metadata": {},
   "outputs": [
    {
     "data": {
      "text/plain": [
       "(array(1.), array(2.))"
      ]
     },
     "execution_count": 3,
     "metadata": {},
     "output_type": "execute_result"
    }
   ],
   "source": [
    "distvar = 2. # Pick other values here too\n",
    "gd = st.gamma(a=1./distvar, loc=0., scale=distvar)\n",
    "gd.stats()"
   ]
  },
  {
   "cell_type": "code",
   "execution_count": 8,
   "id": "2bfc4d4e",
   "metadata": {},
   "outputs": [],
   "source": [
    "def gillespie_peak_time(beta, gamma, y0, sigdist, nevents = int(2e5), N = int(1e5)):\n",
    "    omega = beta + gamma\n",
    "    t = 0\n",
    "    rands = np.random.random(2*nevents).reshape((nevents, 2))\n",
    "    cases = np.nan * np.ones((nevents, 2))\n",
    "    cases[0, 1] = y0\n",
    "    cases[0, 0] = N-y0\n",
    "    time = [0]\n",
    "    e=0\n",
    "    inftot = 0 #keep track of total infections\n",
    "    sigvec = sigdist.rvs(size=N)\n",
    "    sigvecsort = np.random.choice(\n",
    "        a = sigvec,\n",
    "        size = len(sigvec),\n",
    "        replace = False,\n",
    "        p = sigvec/np.sum(sigvec),\n",
    "    )    \n",
    "    sigmean = np.mean(sigvecsort[inftot:])\n",
    "    \n",
    "    while cases[e, 1]>0:\n",
    "        e+=1\n",
    "        rate_vec = np.array((beta*sigmean*cases[e-1, 1]*cases[e-1, 0]/N, gamma*cases[e-1, 1]))\n",
    "        rate_sum = np.sum(rate_vec)\n",
    "\n",
    "        rate_cumsum = np.cumsum(rate_vec)\n",
    "        dt = -np.log(rands[e, 0])/rate_sum\n",
    "        t += dt\n",
    "        \n",
    "        time.append(t)\n",
    "        event_rand = rate_sum * rands[e, 1]\n",
    "        try:\n",
    "            event = np.where(rate_cumsum >= event_rand)[0][0]\n",
    "        except:\n",
    "            print(e, cases[0, :], rate_sum)\n",
    "            return cases\n",
    "        if event ==0:\n",
    "            cases[e, 1] = cases[e-1, 1] + 1\n",
    "            cases[e, 0] = cases[e-1, 0] - 1\n",
    "            inftot += 1\n",
    "            sigmean = np.mean(sigvecsort[inftot:])\n",
    "        elif event == 1:\n",
    "            cases[e, 1] = cases[e-1, 1] - 1\n",
    "            cases[e, 0] = cases[e-1, 0]\n",
    "    \n",
    "    cases[e:, 0] = cases[e, 0]\n",
    "    cases[e:, 1] = 0\n",
    "    peak_size = np.max(cases[:, 1])\n",
    "    peak_idx = np.argmax(cases[:, 1])\n",
    "    peak_time = time[peak_idx]\n",
    "    #return cases\n",
    "    if peak_size >= N/1000:\n",
    "        return peak_time, peak_size\n",
    "    else:\n",
    "        return 0., 0."
   ]
  },
  {
   "cell_type": "code",
   "execution_count": 12,
   "id": "a5a85b5e",
   "metadata": {},
   "outputs": [
    {
     "name": "stdout",
     "output_type": "stream",
     "text": [
      "Executed in 462.1828191280365 seconds\n",
      "    PeakTime\n",
      "0   0.000000\n",
      "1   0.000000\n",
      "2   0.000000\n",
      "3  90.859011\n",
      "4  86.984101\n",
      "5  85.614209\n",
      "6  81.221195\n",
      "7  98.510962\n",
      "8  77.226322\n",
      "9   0.000000\n"
     ]
    }
   ],
   "source": [
    "# Simulate peak times - parallelised\n",
    "np.random.seed(123)\n",
    "nruns_peak = 10\n",
    "population = int(1e6)\n",
    "\n",
    "start = timer()\n",
    "peaks = Parallel(n_jobs=-1)(delayed(gillespie_peak_time)(beta, \n",
    "                                                         gamma, \n",
    "                                                         y0 = 1, \n",
    "                                                         sigdist=gd, \n",
    "                                                         N = population, \n",
    "                                            nevents =2*population ) for i in range(nruns_peak))\n",
    "print(\"Executed in \" + str(timer()-start) + ' seconds')\n",
    "peak_times = pd.DataFrame(np.array([pt for (pt, ps) in peaks]))\n",
    "peak_times.columns = [\"PeakTime\"]\n",
    "print(peak_times)\n",
    "peak_times.to_csv(\"peak_times_heterogeneity_R=\" + str(Reff) + \"_nruns=\" + str(nruns_peak) + \"_pop=\" + str(population) + \".csv\")\n"
   ]
  },
  {
   "cell_type": "code",
   "execution_count": null,
   "id": "b2b60a62",
   "metadata": {},
   "outputs": [],
   "source": [
    "peak_times"
   ]
  },
  {
   "cell_type": "code",
   "execution_count": 6,
   "id": "3893e996",
   "metadata": {},
   "outputs": [
    {
     "name": "stderr",
     "output_type": "stream",
     "text": [
      "  0%|                                                  | 0/1000 [00:29<?, ?it/s]\n",
      "\n",
      "KeyboardInterrupt\n",
      "\n"
     ]
    }
   ],
   "source": [
    "# Legacy code - unparallelised\n",
    "# peak_times = np.zeros(nruns_peak)\n",
    "# peak_sizes = np.zeros(nruns_peak)\n",
    "# for i in tqdm(range(nruns_peak)):\n",
    "#     pt, ps = gillespie_peak_time(beta, gamma, y0 = 1, sigdist=gd)\n",
    "#     peak_times.append(pt)\n",
    "#     peak_times.append(ps)"
   ]
  },
  {
   "cell_type": "code",
   "execution_count": 187,
   "id": "9182cea6",
   "metadata": {},
   "outputs": [],
   "source": [
    "# "
   ]
  },
  {
   "cell_type": "code",
   "execution_count": 209,
   "id": "e6ba8acf",
   "metadata": {},
   "outputs": [
    {
     "name": "stderr",
     "output_type": "stream",
     "text": [
      "100%|███████████████████████████████████| 10000/10000 [00:04<00:00, 2326.77it/s]\n"
     ]
    },
    {
     "data": {
      "text/plain": [
       "<matplotlib.legend.Legend at 0x7fdd808193a0>"
      ]
     },
     "execution_count": 209,
     "metadata": {},
     "output_type": "execute_result"
    },
    {
     "data": {
      "image/png": "[encoded data removed]",
      "text/plain": [
       "<Figure size 432x288 with 1 Axes>"
      ]
     },
     "metadata": {
      "needs_background": "light"
     },
     "output_type": "display_data"
    },
    {
     "data": {
      "image/png": "[encoded data removed]",
      "text/plain": [
       "<Figure size 432x288 with 1 Axes>"
      ]
     },
     "metadata": {
      "needs_background": "light"
     },
     "output_type": "display_data"
    }
   ],
   "source": [
    "st_idx = 4\n",
    "stop_times_df2 = pd.read_csv('stop_times_df2.csv')\n",
    "plt.figure(7)\n",
    "# peak_df = pd.DataFrame(peak_times[peak_times>0], columns = [\"Peak (full simulation)\"])\n",
    "# peak_df.to_csv('peak_times_Novozhilov.csv')\n",
    "#peak_df = pd.read_csv('peak_times_Novozhilov.csv')\n",
    "sns.kdeplot(stop_times_df2[cols[st_idx]]+ 36, label = \"Gillespie Simulated FPT\", color = 'purple', alpha = 0.5)\n",
    "sns.kdeplot(peak_df[\"Peak (full simulation)\"], label = \"Peak (full simulation)\")\n",
    "\n",
    "plt.xlim([30, 200])\n",
    "plt.xlabel(\"Time (Days)\")\n",
    "plt.title(\"Peak time distribution, R = 2\")\n",
    "plt.legend()\n",
    "plt.figure(8)\n",
    "\n",
    "\n",
    "# plt.plot(time[:peak_idx], np.zeros(peak_idx), color = 'purple')\n",
    "\n",
    "ecdf_peak = np.zeros_like(time)\n",
    "ecdf_peak_approx = np.zeros_like(time)\n",
    "st_df = stop_times_df2[cols[st_idx]].dropna()\n",
    "for t_idx in tqdm(range(len(time))):\n",
    "    T = time[t_idx]\n",
    "    ecdf_peak[t_idx] = len(np.where(peak_df <= T)[0])/len(peak_df)\n",
    "    ecdf_peak_approx[t_idx] = len(np.where( st_df <= T)[0])/len(st_df)\n",
    "\n",
    "plt.plot(time, ecdf_peak, label = \"FPT (Full simulation)\")\n",
    "plt.plot(time + 36, ecdf_peak_approx, label = \"Gillespie Simulated FPT\", color = 'tab:purple', alpha = 0.5)\n",
    "plt.xlim([0, 200])\n",
    "plt.ylim([0, 1])\n",
    "plt.xlabel(\"Time (Days)\")\n",
    "plt.title(\"Peak time distribution, R = 2\")\n",
    "plt.legend()\n",
    "# plt.savefig(\"Peak_time_heterogeneity_R=\" + str(Reff) + \".pdf\")"
   ]
  },
  {
   "cell_type": "code",
   "execution_count": 169,
   "id": "9cad5a3a",
   "metadata": {},
   "outputs": [],
   "source": [
    "stop_times_df2\n",
    "cols = [\"3\", \"12\", \"25\", \"125\", \"248\", \"1247\", \"2477\", \"12450\", \"24718\"]"
   ]
  },
  {
   "cell_type": "code",
   "execution_count": 210,
   "id": "b0c26680",
   "metadata": {},
   "outputs": [
    {
     "name": "stdout",
     "output_type": "stream",
     "text": [
      "Peak at Unnamed: 0                2517.5\n",
      "Peak (full simulation)      74.3\n",
      "dtype: float64 days\n"
     ]
    }
   ],
   "source": [
    "print(\"Peak at \" + str(np.round(np.mean(peak_df), 1)) + \" days\")"
   ]
  },
  {
   "cell_type": "code",
   "execution_count": 211,
   "id": "65d7f49c",
   "metadata": {},
   "outputs": [
    {
     "data": {
      "text/plain": [
       "5036"
      ]
     },
     "execution_count": 211,
     "metadata": {},
     "output_type": "execute_result"
    }
   ],
   "source": [
    "len(peak_df)"
   ]
  }
 ],
 "metadata": {
  "kernelspec": {
   "display_name": "Python 3 (ipykernel)",
   "language": "python",
   "name": "python3"
  },
  "language_info": {
   "codemirror_mode": {
    "name": "ipython",
    "version": 3
   },
   "file_extension": ".py",
   "mimetype": "text/x-python",
   "name": "python",
   "nbconvert_exporter": "python",
   "pygments_lexer": "ipython3",
   "version": "3.8.3"
  }
 },
 "nbformat": 4,
 "nbformat_minor": 5
}
