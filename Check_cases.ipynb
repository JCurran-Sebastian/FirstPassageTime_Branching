{
 "cells": [
  {
   "cell_type": "markdown",
   "id": "17013dc4",
   "metadata": {},
   "source": [
    "## Notebook for checking distribution of cases returned by the branching process and corresponding Feller diffusion, as well as of the square root approximation to the Feller diffusion. "
   ]
  },
  {
   "cell_type": "code",
   "execution_count": 1,
   "id": "d1a36382",
   "metadata": {},
   "outputs": [],
   "source": [
    "import numpy as np\n",
    "import scipy as sp\n",
    "import seaborn as sns\n",
    "import pandas as pd\n",
    "from matplotlib import pyplot as plt\n",
    "from tqdm import tqdm"
   ]
  },
  {
   "cell_type": "code",
   "execution_count": 9,
   "id": "2afbb2ca",
   "metadata": {},
   "outputs": [],
   "source": [
    "beta = 2/7 # 3/7, 1.5/10\n",
    "gamma = 1/7 # 1/7, 1/10 \n",
    "Reff = beta/gamma # Effective reproduction number\n",
    "\n",
    "\n",
    "omega = beta + gamma # Average lifetime of infectious case\n",
    "r = beta - gamma # Growth rate \n",
    "rho = omega\n",
    "\n",
    "u1 = omega*(1/omega * 2*beta - 1)\n",
    "u2 = 2*beta \n",
    "\n",
    "ntime = 10000\n",
    "Tmax = 1000\n",
    "time = np.linspace(0, Tmax, ntime)\n",
    "dtime = np.diff(time)[0]\n",
    "t0 = 0\n",
    "y0 = 1\n",
    "\n",
    "# Initial conditions for probability of extinction and moment equations\n",
    "\n",
    "q0 = 0\n",
    "m0 = 1\n",
    "m2_0 = 1\n",
    "\n",
    "# Colour map\n",
    "\n",
    "cmap = sns.color_palette(\"Set2\")"
   ]
  },
  {
   "cell_type": "code",
   "execution_count": 3,
   "id": "9049d5d7",
   "metadata": {},
   "outputs": [
    {
     "name": "stderr",
     "output_type": "stream",
     "text": [
      "100%|█████████████████████████████████████| 10000/10000 [09:44<00:00, 17.12it/s]\n"
     ]
    }
   ],
   "source": [
    "check_times_idxs = [100, 200, 500]\n",
    "def gillespie_time(beta, gamma, y0, Tmax = Tmax, nevents = int(1e6), check_times = [Tmax]):\n",
    "    omega = beta + gamma\n",
    "    t = 0\n",
    "    rands = np.random.random(2*nevents).reshape((nevents, 2))\n",
    "    cases = np.nan * np.ones(nevents)\n",
    "    cases[0] = y0\n",
    "    check_cases = []\n",
    "    checks = 0\n",
    "    for e in range(1, nevents):\n",
    "        rate_vec = np.array((beta*cases[e-1], gamma*cases[e-1]))\n",
    "        rate_sum = np.sum(rate_vec)\n",
    "\n",
    "        rate_cumsum = np.cumsum(rate_vec)\n",
    "        dt = -np.log(rands[e, 0])/rate_sum\n",
    "        \n",
    "        \n",
    "        t += dt\n",
    "        event_rand = rate_sum * rands[e, 1]\n",
    "        event = np.where(rate_cumsum > event_rand)[0][0]\n",
    "#         print(cases[e-1], event, rate_cumsum)\n",
    "        if event ==0:\n",
    "            cases[e] = cases[e-1] + 1\n",
    "        elif event == 1:\n",
    "            cases[e] = cases[e-1] - 1\n",
    "        ctime = time[check_times[checks]] \n",
    "        if ctime <= t and ctime >= t - dt:\n",
    "            check_cases.append(cases[e])\n",
    "            checks += 1\n",
    "            \n",
    "        \n",
    "        \n",
    "#         if t >= time[check_times[-1]]:\n",
    "        if checks >= len(check_times):\n",
    "            cases[(e+1):] = cases[e]\n",
    "            break\n",
    "        if cases[e] == 0:\n",
    "            cases[(e+1):] = 0\n",
    "            check_cases += [0 for i in range(len(check_times)-checks)]\n",
    "            break\n",
    "    if len(check_cases)<len(check_times):\n",
    "        diff = len(check_times) - len(check_cases)\n",
    "        check_cases += [0 for i in range(diff)]\n",
    "    return check_cases\n",
    "nsims = 10000\n",
    "check_cases = np.zeros((nsims, len(check_times_idxs)))\n",
    "for n in tqdm(range(nsims)):\n",
    "        check_cases[n, :] = gillespie_time(beta, gamma, 1, check_times=check_times_idxs)\n",
    "        \n",
    "\n"
   ]
  },
  {
   "cell_type": "code",
   "execution_count": 10,
   "id": "4d01c955",
   "metadata": {},
   "outputs": [
    {
     "name": "stderr",
     "output_type": "stream",
     "text": [
      "100%|████████████████████████████████████| 10000/10000 [01:35<00:00, 104.27it/s]\n"
     ]
    }
   ],
   "source": [
    "def gp_mu(u, t):\n",
    "    return (u1)/2 * u\n",
    "\n",
    "def gp_sigma(u, t):\n",
    "    return np.sqrt(omega)/2\n",
    "\n",
    "def gp_var(u, t):\n",
    "    return (u1)*u + (omega/4)\n",
    "\n",
    "def dW(t):\n",
    "    return np.random.normal(loc = 0.0, scale = np.sqrt(t))\n",
    "\n",
    "\n",
    "\n",
    "def feller_mu(u, t):\n",
    "    return (beta - gamma) * u \n",
    "\n",
    "def feller_sigma(u, t):\n",
    "    return np.sqrt(omega * u)\n",
    "\n",
    "def feller_sqrt(u, t):\n",
    "    if u > 0:\n",
    "        return (beta - gamma)/2 * u - rho/(8*u)\n",
    "    else:\n",
    "        return 0\n",
    "\n",
    "\n",
    "\n",
    "check_times_idxs_feller = check_times_idxs \n",
    "\n",
    "def EulerMaruyama_time(drift, sigma, dW, t0, y0, dt, check_times = [Tmax], num_its = len(time)):\n",
    "    t = t0\n",
    "    y = np.zeros(num_its)\n",
    "    check_cases = []\n",
    "    max_checks = len(check_times)\n",
    "    y[0] = y0\n",
    "    stop_time = 0\n",
    "    check = 0\n",
    "    for i in range(1, num_its):\n",
    "        yn = y[i-1] + drift(y[i-1], t)*dt + sigma(y[i-1],t) * dW(dt)\n",
    "        if yn >0:\n",
    "            y[i] = yn\n",
    "        else:\n",
    "            y[i] = 0\n",
    "            check_cases = [np.nan for i in range(len(check_times))]\n",
    "            break\n",
    "        ctime = time[check_times[check]]\n",
    "        if t<= ctime and t+dt > ctime:\n",
    "            \n",
    "            check_cases.append(yn)\n",
    "            check +=1\n",
    "\n",
    "        t += dt\n",
    "        if check >= len(check_times):\n",
    "            y[i:] = yn\n",
    "            break\n",
    "    if len(check_cases)<len(check_times):\n",
    "        diff = len(check_times) - len(check_cases)\n",
    "        check_cases += [0 for i in range(diff)]     \n",
    "     \n",
    "    return check_cases, y\n",
    "nsims = 10000\n",
    "check_cases_feller = np.zeros((nsims, len(check_times_idxs_feller)))\n",
    "check_cases_feller_sqrt = np.zeros((nsims, len(check_times_idxs_feller)))\n",
    "ccfs_real = np.zeros((nsims, len(check_times_idxs_feller)))\n",
    "time_test = np.linspace(0, 500, 10000)\n",
    "dt = np.diff(time_test)[0]\n",
    "for n in tqdm(range(nsims)):\n",
    "    check_cases_feller[n, :], feller_sim = EulerMaruyama_time(feller_mu, feller_sigma, dW, t0, y0, dt, check_times = check_times_idxs_feller)\n",
    "    check_cases_feller_sqrt[n, :], feller_sim_sqrt = EulerMaruyama_time(gp_mu, gp_sigma, dW, t0, y0, dt, check_times = check_times_idxs_feller)\n",
    "    ccfs_real[n, :], fss_real = EulerMaruyama_time(feller_sqrt, gp_sigma, dW, t0, y0, dt, check_times = check_times_idxs_feller)\n",
    "    \n",
    "check_cases_feller_sqrt = check_cases_feller_sqrt**2\n",
    "ccfs_real = ccfs_real**2\n",
    "\n"
   ]
  },
  {
   "cell_type": "code",
   "execution_count": 14,
   "id": "e32926b8",
   "metadata": {},
   "outputs": [
    {
     "data": {
      "image/png": "[encoded data removed]",
      "text/plain": [
       "<Figure size 432x288 with 1 Axes>"
      ]
     },
     "metadata": {
      "needs_background": "light"
     },
     "output_type": "display_data"
    },
    {
     "data": {
      "image/png": "[encoded data removed]",
      "text/plain": [
       "<Figure size 432x288 with 1 Axes>"
      ]
     },
     "metadata": {
      "needs_background": "light"
     },
     "output_type": "display_data"
    },
    {
     "data": {
      "image/png": "[encoded data removed]",
      "text/plain": [
       "<Figure size 432x288 with 1 Axes>"
      ]
     },
     "metadata": {
      "needs_background": "light"
     },
     "output_type": "display_data"
    },
    {
     "data": {
      "image/png": "[encoded data removed]",
      "text/plain": [
       "<Figure size 432x288 with 4 Axes>"
      ]
     },
     "metadata": {
      "needs_background": "light"
     },
     "output_type": "display_data"
    }
   ],
   "source": [
    "check_times_cols =[str(int(time[ct])) for ct in check_times_idxs]\n",
    "check_cases_df = pd.DataFrame(check_cases, columns = [str(int(time[ct])) for ct in check_times_idxs])\n",
    "check_cases_df.replace(0, np.nan, inplace=True)\n",
    "\n",
    "\n",
    "\n",
    "check_cases_feller_df = pd.DataFrame(check_cases_feller.copy(), columns = [str(int(time[ct])) for ct in check_times_idxs_feller])\n",
    "check_cases_feller_df.replace(0, np.nan, inplace=True)\n",
    "plt.figure(20)\n",
    "sns.histplot(check_cases_feller_df[check_times_cols[-1]].dropna(), stat = 'density')\n",
    "plt.title(\"T = 50, Feller Diffusion\" )\n",
    "\n",
    "check_cases_feller_sqrt_df = pd.DataFrame(check_cases_feller_sqrt.copy(), columns = [str(int(time[ct])) for ct in check_times_idxs_feller])\n",
    "check_cases_feller_sqrt_df.replace(0, np.nan, inplace=True)\n",
    "plt.figure(21)\n",
    "sns.histplot(check_cases_feller_sqrt_df[check_times_cols[-1]], stat = 'density')\n",
    "plt.title(\"T = 50, Feller Root Diffusion (Approx)\" )\n",
    "\n",
    "\n",
    "ccfs_real_df = pd.DataFrame(ccfs_real.copy(), columns = [str(int(time[ct])) for ct in check_times_idxs_feller])\n",
    "ccfs_real_df.replace(0, np.nan, inplace=True)\n",
    "\n",
    "\n",
    "plt.figure(22)\n",
    "sns.histplot(ccfs_real_df[check_times_cols[-1]], stat = 'density')\n",
    "plt.title(\"T = 50, Feller Root Diffusion (Exact)\")\n",
    "\n",
    "\n",
    "fig, ax = plt.subplots(2, 2)\n",
    "sns.histplot(check_cases_df[check_times_cols[-1]], stat = 'density', bins = 40, kde = True, ax = ax[0, 0])\n",
    "sns.histplot(check_cases_feller_df[check_times_cols[-1]].dropna(), stat = 'density', bins = 40, kde = True, ax = ax[0, 1])\n",
    "sns.histplot(ccfs_real_df[check_times_cols[-1]].dropna(), stat = 'density', bins = 40, kde = True, ax = ax[1, 0])\n",
    "sns.histplot(check_cases_feller_sqrt_df[check_times_cols[-1]].dropna(), stat = 'density', bins = 40, kde = True, ax = ax[1, 1])\n",
    "\n",
    "\n",
    "ax[0,0].set_xlim([0, 20000])\n",
    "ax[0,1].set_xlim([0, 20000])\n",
    "ax[1,0].set_xlim([0, 20000])\n",
    "ax[1,1].set_xlim([0, 20000])\n",
    "\n",
    "\n",
    "\n",
    "\n",
    "plt.tight_layout()\n",
    "\n",
    "\n"
   ]
  },
  {
   "cell_type": "code",
   "execution_count": null,
   "id": "2fc51371",
   "metadata": {},
   "outputs": [],
   "source": []
  },
  {
   "cell_type": "code",
   "execution_count": null,
   "id": "c844a99e",
   "metadata": {},
   "outputs": [],
   "source": []
  },
  {
   "cell_type": "code",
   "execution_count": null,
   "id": "b10411b4",
   "metadata": {},
   "outputs": [],
   "source": []
  }
 ],
 "metadata": {
  "kernelspec": {
   "display_name": "Python 3 (ipykernel)",
   "language": "python",
   "name": "python3"
  },
  "language_info": {
   "codemirror_mode": {
    "name": "ipython",
    "version": 3
   },
   "file_extension": ".py",
   "mimetype": "text/x-python",
   "name": "python",
   "nbconvert_exporter": "python",
   "pygments_lexer": "ipython3",
   "version": "3.8.8"
  }
 },
 "nbformat": 4,
 "nbformat_minor": 5
}
