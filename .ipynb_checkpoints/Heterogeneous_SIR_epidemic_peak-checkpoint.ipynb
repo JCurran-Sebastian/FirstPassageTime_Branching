{
 "cells": [
  {
   "cell_type": "markdown",
   "id": "b4bd3279",
   "metadata": {},
   "source": [
    "# Consider heterogeneous model\n",
    "\n",
    "Pick population susceptibilities from a gamma distribution with mean 1 and specified variance.\n",
    "\n",
    "TH: 7 July 2023, trying to run 1e7 and incorporate parallel (M1 ultra should have 16+4 cores)\n"
   ]
  },
  {
   "cell_type": "code",
   "execution_count": 1,
   "id": "941ee892",
   "metadata": {},
   "outputs": [],
   "source": [
    "import numpy as np\n",
    "import scipy as sp\n",
    "import scipy.stats as st\n",
    "import seaborn as sns\n",
    "import pandas as pd\n",
    "from matplotlib import pyplot as plt\n",
    "from tqdm import tqdm\n",
    "from joblib import Parallel, delayed\n",
    "from time import time as timer"
   ]
  },
  {
   "cell_type": "code",
   "execution_count": 2,
   "id": "6b733298",
   "metadata": {},
   "outputs": [],
   "source": [
    "beta = 2/7 # 3/7, 1.5/10\n",
    "gamma = 1/7 # 1/7, 1/10 \n",
    "Reff = beta/gamma # Effective reproduction number\n",
    "\n",
    "\n",
    "omega = beta + gamma # Average lifetime of infectious case\n",
    "r = beta - gamma # Growth rate \n",
    "rho = omega\n",
    "\n",
    "\n",
    "ntime = 10000\n",
    "Tmax = 1000\n",
    "time = np.linspace(0, Tmax, ntime)\n",
    "dtime = np.diff(time)[0]\n",
    "\n",
    "# Initial conditions for probability of extinction and moment equations\n",
    "\n",
    "q0 = 0\n",
    "m0 = 1\n",
    "m2_0 = 1\n",
    "\n",
    "# Colour map\n",
    "\n",
    "cmap = sns.color_palette(\"Set2\")\n"
   ]
  },
  {
   "cell_type": "code",
   "execution_count": 3,
   "id": "a711ae42",
   "metadata": {},
   "outputs": [
    {
     "data": {
      "text/plain": [
       "(array(1.), array(2.))"
      ]
     },
     "execution_count": 3,
     "metadata": {},
     "output_type": "execute_result"
    }
   ],
   "source": [
    "distvar = 2. # Pick other values here too\n",
    "gd = st.gamma(a=1./distvar, loc=0., scale=distvar)\n",
    "gd.stats()"
   ]
  },
  {
   "cell_type": "code",
   "execution_count": 6,
   "id": "2bfc4d4e",
   "metadata": {},
   "outputs": [],
   "source": [
    "def gillespie_peak_time(beta, gamma, y0, sigdist, nevents = int(2e5), N = int(1e5)):\n",
    "    omega = beta + gamma\n",
    "    t = 0\n",
    "    rands = np.random.random(2*nevents).reshape((nevents, 2))\n",
    "    cases = np.nan * np.ones((nevents, 2))\n",
    "    cases[0, 1] = y0\n",
    "    cases[0, 0] = N-y0\n",
    "    time = [0]\n",
    "    e=0\n",
    "    inftot = 0 #keep track of total infections\n",
    "    sigvec = sigdist.rvs(size=N)\n",
    "    sigvecsort = np.random.choice(\n",
    "        a = sigvec,\n",
    "        size = len(sigvec),\n",
    "        replace = False,\n",
    "        p = sigvec/np.sum(sigvec),\n",
    "    )    \n",
    "    sigmean = np.mean(sigvecsort[inftot:])\n",
    "    \n",
    "    while cases[e, 1]>0:\n",
    "        e+=1\n",
    "        rate_vec = np.array((beta*sigmean*cases[e-1, 1]*cases[e-1, 0]/N, gamma*cases[e-1, 1]))\n",
    "        rate_sum = np.sum(rate_vec)\n",
    "\n",
    "        rate_cumsum = np.cumsum(rate_vec)\n",
    "        dt = -np.log(rands[e, 0])/rate_sum\n",
    "        t += dt\n",
    "        \n",
    "        time.append(t)\n",
    "        event_rand = rate_sum * rands[e, 1]\n",
    "        try:\n",
    "            event = np.where(rate_cumsum >= event_rand)[0][0]\n",
    "        except:\n",
    "            print(e, cases[0, :], rate_sum)\n",
    "            return cases\n",
    "        if event ==0:\n",
    "            cases[e, 1] = cases[e-1, 1] + 1\n",
    "            cases[e, 0] = cases[e-1, 0] - 1\n",
    "            inftot += 1\n",
    "            sigmean = np.mean(sigvecsort[inftot:])\n",
    "        elif event == 1:\n",
    "            cases[e, 1] = cases[e-1, 1] - 1\n",
    "            cases[e, 0] = cases[e-1, 0]\n",
    "    \n",
    "    cases[e:, 0] = cases[e, 0]\n",
    "    cases[e:, 1] = 0\n",
    "    peak_size = np.max(cases[:, 1])\n",
    "    peak_idx = np.argmax(cases[:, 1])\n",
    "    peak_time = time[peak_idx]\n",
    "    #return cases\n",
    "    if peak_size >= N/1000:\n",
    "        return peak_time, peak_size\n",
    "    else:\n",
    "        return 0., 0."
   ]
  },
  {
   "cell_type": "code",
   "execution_count": 8,
   "id": "3893e996",
   "metadata": {},
   "outputs": [
    {
     "name": "stdout",
     "output_type": "stream",
     "text": [
      "Executed in 59.974934101104736 seconds\n"
     ]
    }
   ],
   "source": [
    "# Simulate peak times - parallelised\n",
    "np.random.seed(123)\n",
    "nruns_peak = 1000\n",
    "population = int(1e7)\n",
    "\n",
    "start = timer()\n",
    "peaks = Parallel(n_jobs=-1)(\n",
    "    delayed(gillespie_peak_time)(\n",
    "        beta, \n",
    "        gamma, \n",
    "        y0 = 1, \n",
    "        sigdist=gd, \n",
    "        N = population, \n",
    "        nevents =2*population,\n",
    "    ) for i in range(nruns_peak))\n",
    "\n",
    "print(\"Executed in \" + str(timer()-start) + ' seconds')"
   ]
  },
  {
   "cell_type": "code",
   "execution_count": null,
   "id": "5feb21a0",
   "metadata": {},
   "outputs": [],
   "source": [
    "peak_times = pd.DataFrame(np.array([pt for (pt, ps) in peaks]))\n",
    "peak_times.columns = [\"PeakTime\"]"
   ]
  },
  {
   "cell_type": "code",
   "execution_count": null,
   "id": "26e7ce3c",
   "metadata": {},
   "outputs": [],
   "source": [
    "print(peak_times)\n",
    "plt.hist(peak_times,100)\n",
    "plt.tight_layout()"
   ]
  },
  {
   "cell_type": "code",
   "execution_count": null,
   "id": "64806d32",
   "metadata": {},
   "outputs": [],
   "source": [
    "peak_times.to_csv(\"peak_times_heterogeneity_R=\" + str(Reff) + \"_nruns=\" + str(nruns_peak) + \"_pop=\" + str(population) + \".csv\")"
   ]
  },
  {
   "cell_type": "code",
   "execution_count": null,
   "id": "1483a4b1",
   "metadata": {},
   "outputs": [],
   "source": []
  }
 ],
 "metadata": {
  "kernelspec": {
   "display_name": "Python 3 (ipykernel)",
   "language": "python",
   "name": "python3"
  },
  "language_info": {
   "codemirror_mode": {
    "name": "ipython",
    "version": 3
   },
   "file_extension": ".py",
   "mimetype": "text/x-python",
   "name": "python",
   "nbconvert_exporter": "python",
   "pygments_lexer": "ipython3",
   "version": "3.9.13"
  }
 },
 "nbformat": 4,
 "nbformat_minor": 5
}
