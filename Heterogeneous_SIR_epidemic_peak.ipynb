{
 "cells": [
  {
   "cell_type": "markdown",
   "id": "b4bd3279",
   "metadata": {},
   "source": [
    "# Consider heterogeneous model\n",
    "\n",
    "Pick population susceptibilities from a gamma distribution with mean 1 and specified variance.\n"
   ]
  },
  {
   "cell_type": "code",
   "execution_count": 1,
   "id": "941ee892",
   "metadata": {},
   "outputs": [],
   "source": [
    "import numpy as np\n",
    "import scipy as sp\n",
    "import scipy.stats as st\n",
    "import seaborn as sns\n",
    "import pandas as pd\n",
    "from matplotlib import pyplot as plt\n",
    "from tqdm import tqdm"
   ]
  },
  {
   "cell_type": "code",
   "execution_count": 2,
   "id": "6b733298",
   "metadata": {},
   "outputs": [],
   "source": [
    "beta = 2/7 # 3/7, 1.5/10\n",
    "gamma = 1/7 # 1/7, 1/10 \n",
    "Reff = beta/gamma # Effective reproduction number\n",
    "\n",
    "\n",
    "omega = beta + gamma # Average lifetime of infectious case\n",
    "r = beta - gamma # Growth rate \n",
    "rho = omega\n",
    "\n",
    "\n",
    "ntime = 10000\n",
    "Tmax = 1000\n",
    "time = np.linspace(0, Tmax, ntime)\n",
    "dtime = np.diff(time)[0]\n",
    "\n",
    "# Initial conditions for probability of extinction and moment equations\n",
    "\n",
    "q0 = 0\n",
    "m0 = 1\n",
    "m2_0 = 1\n",
    "\n",
    "# Colour map\n",
    "\n",
    "cmap = sns.color_palette(\"Set2\")\n"
   ]
  },
  {
   "cell_type": "code",
   "execution_count": 8,
   "id": "a711ae42",
   "metadata": {},
   "outputs": [
    {
     "data": {
      "text/plain": [
       "(array(1.), array(2.))"
      ]
     },
     "execution_count": 8,
     "metadata": {},
     "output_type": "execute_result"
    }
   ],
   "source": [
    "distvar = 2. # Pick other values here too\n",
    "gd = st.gamma(a=1./distvar, loc=0., scale=distvar)\n",
    "gd.stats()"
   ]
  },
  {
   "cell_type": "code",
   "execution_count": 9,
   "id": "2bfc4d4e",
   "metadata": {},
   "outputs": [],
   "source": [
    "def gillespie_peak_time(beta, gamma, y0, sigdist, nevents = int(1e8), N = int(1e7)):\n",
    "    omega = beta + gamma\n",
    "    t = 0\n",
    "    rands = np.random.random(2*nevents).reshape((nevents, 2))\n",
    "    cases = np.nan * np.ones((nevents, 2))\n",
    "    cases[0, 1] = y0\n",
    "    cases[0, 0] = N-y0\n",
    "    time = [0]\n",
    "    e=0\n",
    "    sigvec = sigdist.rvs(size=N)\n",
    "    sigmean = np.mean(sigvec)\n",
    "    while cases[e, 1]>0:\n",
    "        e+=1\n",
    "        rate_vec = np.array((beta*sigmean*cases[e-1, 1]*cases[e-1, 0]/N, gamma*cases[e-1, 1]))\n",
    "        rate_sum = np.sum(rate_vec)\n",
    "\n",
    "        rate_cumsum = np.cumsum(rate_vec)\n",
    "        dt = -np.log(rands[e, 0])/rate_sum\n",
    "        t += dt\n",
    "        \n",
    "        time.append(t)\n",
    "        event_rand = rate_sum * rands[e, 1]\n",
    "        try:\n",
    "            event = np.where(rate_cumsum >= event_rand)[0][0]\n",
    "        except:\n",
    "            print(e, cases[0, :], rate_sum)\n",
    "            return cases\n",
    "        if event ==0:\n",
    "            cases[e, 1] = cases[e-1, 1] + 1\n",
    "            cases[e, 0] = cases[e-1, 0] - 1\n",
    "            # Remove an element from sigvec proportional to its sig value, and update sigmean\n",
    "            i = np.random.multinomial(n=1,pvals=sigvec/np.sum(sigvec))\n",
    "            sigvec = np.delete(sigvec,i)\n",
    "            sigmean = np.mean(sigvec)\n",
    "        elif event == 1:\n",
    "            cases[e, 1] = cases[e-1, 1] - 1\n",
    "            cases[e, 0] = cases[e-1, 0]\n",
    "        \n",
    "    cases[e:, 1] = 0\n",
    "    peak_size = np.max(cases[:, 1])\n",
    "    peak_idx = np.argmax(cases[:, 1])\n",
    "    peak_time = time[peak_idx]\n",
    "    if peak_size >= N/1000:\n",
    "        return peak_time, peak_size\n",
    "    else:\n",
    "        return 0., 0."
   ]
  },
  {
   "cell_type": "code",
   "execution_count": 10,
   "id": "3893e996",
   "metadata": {},
   "outputs": [
    {
     "name": "stderr",
     "output_type": "stream",
     "text": [
      "  0%|                                                  | 0/1000 [00:40<?, ?it/s]\n"
     ]
    },
    {
     "ename": "KeyboardInterrupt",
     "evalue": "",
     "output_type": "error",
     "traceback": [
      "\u001b[0;31m---------------------------------------------------------------------------\u001b[0m",
      "\u001b[0;31mKeyboardInterrupt\u001b[0m                         Traceback (most recent call last)",
      "\u001b[0;32m/var/folders/r5/4xpnwsnj41ldtxfsdgy81_0h0000gn/T/ipykernel_1087/992160174.py\u001b[0m in \u001b[0;36m<module>\u001b[0;34m\u001b[0m\n\u001b[1;32m      4\u001b[0m \u001b[0mpeak_sizes\u001b[0m \u001b[0;34m=\u001b[0m \u001b[0mnp\u001b[0m\u001b[0;34m.\u001b[0m\u001b[0mzeros\u001b[0m\u001b[0;34m(\u001b[0m\u001b[0mnruns_peak\u001b[0m\u001b[0;34m)\u001b[0m\u001b[0;34m\u001b[0m\u001b[0;34m\u001b[0m\u001b[0m\n\u001b[1;32m      5\u001b[0m \u001b[0;32mfor\u001b[0m \u001b[0mi\u001b[0m \u001b[0;32min\u001b[0m \u001b[0mtqdm\u001b[0m\u001b[0;34m(\u001b[0m\u001b[0mrange\u001b[0m\u001b[0;34m(\u001b[0m\u001b[0mnruns_peak\u001b[0m\u001b[0;34m)\u001b[0m\u001b[0;34m)\u001b[0m\u001b[0;34m:\u001b[0m\u001b[0;34m\u001b[0m\u001b[0;34m\u001b[0m\u001b[0m\n\u001b[0;32m----> 6\u001b[0;31m     \u001b[0mpeak_times\u001b[0m\u001b[0;34m[\u001b[0m\u001b[0mi\u001b[0m\u001b[0;34m]\u001b[0m\u001b[0;34m,\u001b[0m \u001b[0mpeak_sizes\u001b[0m\u001b[0;34m[\u001b[0m\u001b[0mi\u001b[0m\u001b[0;34m]\u001b[0m \u001b[0;34m=\u001b[0m \u001b[0mgillespie_peak_time\u001b[0m\u001b[0;34m(\u001b[0m\u001b[0mbeta\u001b[0m\u001b[0;34m,\u001b[0m \u001b[0mgamma\u001b[0m\u001b[0;34m,\u001b[0m \u001b[0my0\u001b[0m \u001b[0;34m=\u001b[0m \u001b[0;36m1\u001b[0m\u001b[0;34m,\u001b[0m \u001b[0msigdist\u001b[0m\u001b[0;34m=\u001b[0m\u001b[0mgd\u001b[0m\u001b[0;34m)\u001b[0m\u001b[0;34m\u001b[0m\u001b[0;34m\u001b[0m\u001b[0m\n\u001b[0m",
      "\u001b[0;32m/var/folders/r5/4xpnwsnj41ldtxfsdgy81_0h0000gn/T/ipykernel_1087/3732739026.py\u001b[0m in \u001b[0;36mgillespie_peak_time\u001b[0;34m(beta, gamma, y0, sigdist, nevents, N)\u001b[0m\n\u001b[1;32m     30\u001b[0m             \u001b[0mcases\u001b[0m\u001b[0;34m[\u001b[0m\u001b[0me\u001b[0m\u001b[0;34m,\u001b[0m \u001b[0;36m0\u001b[0m\u001b[0;34m]\u001b[0m \u001b[0;34m=\u001b[0m \u001b[0mcases\u001b[0m\u001b[0;34m[\u001b[0m\u001b[0me\u001b[0m\u001b[0;34m-\u001b[0m\u001b[0;36m1\u001b[0m\u001b[0;34m,\u001b[0m \u001b[0;36m0\u001b[0m\u001b[0;34m]\u001b[0m \u001b[0;34m-\u001b[0m \u001b[0;36m1\u001b[0m\u001b[0;34m\u001b[0m\u001b[0;34m\u001b[0m\u001b[0m\n\u001b[1;32m     31\u001b[0m             \u001b[0;31m# Remove an element from sigvec proportional to its sig value, and update sigmean\u001b[0m\u001b[0;34m\u001b[0m\u001b[0;34m\u001b[0m\u001b[0;34m\u001b[0m\u001b[0m\n\u001b[0;32m---> 32\u001b[0;31m             \u001b[0mi\u001b[0m \u001b[0;34m=\u001b[0m \u001b[0mnp\u001b[0m\u001b[0;34m.\u001b[0m\u001b[0mrandom\u001b[0m\u001b[0;34m.\u001b[0m\u001b[0mmultinomial\u001b[0m\u001b[0;34m(\u001b[0m\u001b[0mn\u001b[0m\u001b[0;34m=\u001b[0m\u001b[0;36m1\u001b[0m\u001b[0;34m,\u001b[0m\u001b[0mpvals\u001b[0m\u001b[0;34m=\u001b[0m\u001b[0msigvec\u001b[0m\u001b[0;34m/\u001b[0m\u001b[0mnp\u001b[0m\u001b[0;34m.\u001b[0m\u001b[0msum\u001b[0m\u001b[0;34m(\u001b[0m\u001b[0msigvec\u001b[0m\u001b[0;34m)\u001b[0m\u001b[0;34m)\u001b[0m\u001b[0;34m\u001b[0m\u001b[0;34m\u001b[0m\u001b[0m\n\u001b[0m\u001b[1;32m     33\u001b[0m             \u001b[0msigvec\u001b[0m \u001b[0;34m=\u001b[0m \u001b[0mnp\u001b[0m\u001b[0;34m.\u001b[0m\u001b[0mdelete\u001b[0m\u001b[0;34m(\u001b[0m\u001b[0msigvec\u001b[0m\u001b[0;34m,\u001b[0m\u001b[0mi\u001b[0m\u001b[0;34m)\u001b[0m\u001b[0;34m\u001b[0m\u001b[0;34m\u001b[0m\u001b[0m\n\u001b[1;32m     34\u001b[0m             \u001b[0msigmean\u001b[0m \u001b[0;34m=\u001b[0m \u001b[0mnp\u001b[0m\u001b[0;34m.\u001b[0m\u001b[0mmean\u001b[0m\u001b[0;34m(\u001b[0m\u001b[0msigvec\u001b[0m\u001b[0;34m)\u001b[0m\u001b[0;34m\u001b[0m\u001b[0;34m\u001b[0m\u001b[0m\n",
      "\u001b[0;31mKeyboardInterrupt\u001b[0m: "
     ]
    }
   ],
   "source": [
    "np.random.seed(123)\n",
    "nruns_peak = 1000\n",
    "peak_times = np.zeros(nruns_peak)\n",
    "peak_sizes = np.zeros(nruns_peak)\n",
    "for i in tqdm(range(nruns_peak)):\n",
    "    peak_times[i], peak_sizes[i] = gillespie_peak_time(beta, gamma, y0 = 1, sigdist=gd)"
   ]
  },
  {
   "cell_type": "code",
   "execution_count": null,
   "id": "e6ba8acf",
   "metadata": {},
   "outputs": [],
   "source": [
    "plt.figure(7)\n",
    "peak_df = pd.DataFrame(peak_times[peak_times>0], columns = [\"Peak (full simulation)\"])\n",
    "sns.kdeplot(stop_times_df2[cols[st_idx]]+ peak_time, label = \"Gillespie Simulated FPT\", color = 'purple', alpha = 0.5)\n",
    "sns.kdeplot(peak_df[\"Peak (full simulation)\"], label = \"Peak (full simulation)\")\n",
    "\n",
    "plt.xlim([75, 200])\n",
    "plt.xlabel(\"Time (Days)\")\n",
    "plt.title(\"Peak time distribution, R = 2\")\n",
    "plt.legend()\n",
    "plt.figure(8)\n",
    "\n",
    "\n",
    "plt.plot(time[:peak_idx], np.zeros(peak_idx), color = 'purple')\n",
    "\n",
    "ecdf_peak = np.zeros_like(time)\n",
    "ecdf_peak_approx = np.zeros_like(time)\n",
    "st_df = stop_times_df2[cols[st_idx]].dropna()\n",
    "for t_idx in tqdm(range(len(time))):\n",
    "    T = time[t_idx]\n",
    "    ecdf_peak[t_idx] = len(np.where(peak_df <= T)[0])/len(peak_df)\n",
    "    ecdf_peak_approx[t_idx] = len(np.where( st_df <= T)[0])/len(st_df)\n",
    "\n",
    "plt.plot(time, ecdf_peak, label = \"FPT (Full simulation)\")\n",
    "plt.plot(time + peak_time, ecdf_peak_approx, label = \"Gillespie Simulated FPT\", color = 'tab:purple', alpha = 0.5)\n",
    "plt.xlim([0, 200])\n",
    "plt.ylim([0, 1])\n",
    "plt.xlabel(\"Time (Days)\")\n",
    "plt.title(\"Peak time distribution, R = 2\")\n",
    "plt.legend()\n",
    "plt.savefig(\"True_peak_time_R=\" + str(Reff) + \".pdf\")"
   ]
  },
  {
   "cell_type": "code",
   "execution_count": null,
   "id": "9cad5a3a",
   "metadata": {},
   "outputs": [],
   "source": []
  },
  {
   "cell_type": "code",
   "execution_count": null,
   "id": "b0c26680",
   "metadata": {},
   "outputs": [],
   "source": []
  },
  {
   "cell_type": "code",
   "execution_count": null,
   "id": "3e2ef598",
   "metadata": {},
   "outputs": [],
   "source": []
  }
 ],
 "metadata": {
  "kernelspec": {
   "display_name": "Python 3 (ipykernel)",
   "language": "python",
   "name": "python3"
  },
  "language_info": {
   "codemirror_mode": {
    "name": "ipython",
    "version": 3
   },
   "file_extension": ".py",
   "mimetype": "text/x-python",
   "name": "python",
   "nbconvert_exporter": "python",
   "pygments_lexer": "ipython3",
   "version": "3.8.12"
  }
 },
 "nbformat": 4,
 "nbformat_minor": 5
}
